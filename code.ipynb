{
 "cells": [
  {
   "cell_type": "code",
   "execution_count": 16,
   "metadata": {},
   "outputs": [],
   "source": [
    "import nltk\n",
    "from nltk.corpus import wordnet as wn\n",
    "from nltk.tokenize import word_tokenize\n",
    "from nltk.corpus import stopwords\n",
    "import re"
   ]
  },
  {
   "cell_type": "code",
   "execution_count": 17,
   "metadata": {},
   "outputs": [],
   "source": [
    "def download_nltk_packages():\n",
    "    nltk.download('wordnet')\n",
    "    nltk.download('punkt')\n",
    "    nltk.download('stopwords')\n",
    "    nltk.download('averaged_perceptron_tagger')"
   ]
  },
  {
   "cell_type": "code",
   "execution_count": 18,
   "metadata": {},
   "outputs": [
    {
     "name": "stderr",
     "output_type": "stream",
     "text": [
      "[nltk_data] Downloading package wordnet to C:\\Users\\Satyata\n",
      "[nltk_data]     Dhorgawe\\AppData\\Roaming\\nltk_data...\n",
      "[nltk_data]   Package wordnet is already up-to-date!\n",
      "[nltk_data] Downloading package punkt to C:\\Users\\Satyata\n",
      "[nltk_data]     Dhorgawe\\AppData\\Roaming\\nltk_data...\n",
      "[nltk_data]   Package punkt is already up-to-date!\n",
      "[nltk_data] Downloading package stopwords to C:\\Users\\Satyata\n",
      "[nltk_data]     Dhorgawe\\AppData\\Roaming\\nltk_data...\n",
      "[nltk_data]   Package stopwords is already up-to-date!\n",
      "[nltk_data] Downloading package averaged_perceptron_tagger to\n",
      "[nltk_data]     C:\\Users\\Satyata Dhorgawe\\AppData\\Roaming\\nltk_data...\n",
      "[nltk_data]   Package averaged_perceptron_tagger is already up-to-\n",
      "[nltk_data]       date!\n"
     ]
    }
   ],
   "source": [
    "download_nltk_packages()\n"
   ]
  },
  {
   "cell_type": "code",
   "execution_count": 19,
   "metadata": {},
   "outputs": [],
   "source": [
    "def tokenizer(sentence):\n",
    "    return word_tokenize(sentence)"
   ]
  },
  {
   "cell_type": "code",
   "execution_count": 20,
   "metadata": {},
   "outputs": [],
   "source": [
    "def pos_tagger(tokens):\n",
    "    return nltk.pos_tag(tokens)"
   ]
  },
  {
   "cell_type": "code",
   "execution_count": 21,
   "metadata": {},
   "outputs": [],
   "source": [
    "def stopword_treatment(tokens):\n",
    "    stopword = stopwords.words('english')\n",
    "    result = []\n",
    "    for token in tokens:\n",
    "        if token[0].lower() not in stopword:\n",
    "            result.append(tuple([token[0].lower(), token[1]]))\n",
    "    return result"
   ]
  },
  {
   "cell_type": "code",
   "execution_count": 22,
   "metadata": {},
   "outputs": [],
   "source": [
    "pos_tag_map = {\n",
    "    'NN': [ wn.NOUN ],\n",
    "    'JJ': [ wn.ADJ, wn.ADJ_SAT ],\n",
    "    'RB': [ wn.ADV ],\n",
    "    'VB': [ wn.VERB ]\n",
    "}\n"
   ]
  },
  {
   "cell_type": "code",
   "execution_count": 23,
   "metadata": {},
   "outputs": [],
   "source": [
    "def pos_tag_converter(nltk_pos_tag):\n",
    "    root_tag = nltk_pos_tag[0:2]\n",
    "    try:\n",
    "        pos_tag_map[root_tag]\n",
    "        return pos_tag_map[root_tag]\n",
    "    except KeyError:\n",
    "        return ''\n",
    "    "
   ]
  },
  {
   "cell_type": "code",
   "execution_count": 24,
   "metadata": {},
   "outputs": [],
   "source": [
    "def get_synsets(tokens):\n",
    "    synsets = []\n",
    "    for token in tokens:\n",
    "        wn_pos_tag = pos_tag_converter(token[1])\n",
    "        if wn_pos_tag == '':\n",
    "            continue\n",
    "        else:\n",
    "            synsets.append(wn.synsets(token[0], wn_pos_tag))\n",
    "    return synsets"
   ]
  },
  {
   "cell_type": "code",
   "execution_count": 25,
   "metadata": {},
   "outputs": [],
   "source": [
    "def get_tokens_from_synsets(synsets):\n",
    "    tokens = {}\n",
    "    for synset in synsets:\n",
    "        for s in synset:\n",
    "            if s.name() in tokens:\n",
    "                tokens[s.name().split('.')[0]] += 1\n",
    "            else:\n",
    "                tokens[s.name().split('.')[0]] = 1\n",
    "    return tokens\n"
   ]
  },
  {
   "cell_type": "code",
   "execution_count": 26,
   "metadata": {},
   "outputs": [],
   "source": [
    "def get_hypernyms(synsets):\n",
    "    hypernyms = []\n",
    "    for synset in synsets:\n",
    "        for s in synset:\n",
    "            hypernyms.append(s.hypernyms())\n",
    "            \n",
    "    return hypernyms"
   ]
  },
  {
   "cell_type": "code",
   "execution_count": 27,
   "metadata": {},
   "outputs": [],
   "source": [
    "def get_tokens_from_hypernyms(synsets):\n",
    "    tokens = {}\n",
    "    for synset in synsets:\n",
    "        for s in synsets:\n",
    "            for ss in s:\n",
    "                if ss.name().split('.')[0] in tokens:\n",
    "                    tokens[(ss.name().split('.')[0])] += 1\n",
    "                else:\n",
    "                    tokens[(ss.name().split('.')[0])] = 1\n",
    "    return tokens\n"
   ]
  },
  {
   "cell_type": "code",
   "execution_count": 28,
   "metadata": {},
   "outputs": [],
   "source": [
    "def underscore_replacer(tokens):\n",
    "    new_tokens = {}\n",
    "    for key in tokens.keys():\n",
    "        mod_key = re.sub(r'_', ' ', key)\n",
    "        new_tokens[mod_key] = tokens[key]\n",
    "    return new_tokens"
   ]
  },
  {
   "cell_type": "code",
   "execution_count": 29,
   "metadata": {},
   "outputs": [],
   "source": [
    "def generate_tokens(sentence):\n",
    "    tokens = tokenizer(sentence)\n",
    "    tokens = pos_tagger(tokens)\n",
    "    tokens = stopword_treatment(tokens)\n",
    "    synsets = get_synsets(tokens)\n",
    "    synonyms = get_tokens_from_synsets(synsets)\n",
    "    synonyms = underscore_replacer(synonyms)\n",
    "    hypernyms = get_hypernyms(synsets)\n",
    "    hypernyms = get_tokens_from_hypernyms(hypernyms)\n",
    "    hypernyms = underscore_replacer(hypernyms)\n",
    "    tokens = {**synonyms, **hypernyms}\n",
    "    return tokens"
   ]
  },
  {
   "cell_type": "code",
   "execution_count": 30,
   "metadata": {},
   "outputs": [
    {
     "data": {
      "text/plain": [
       "{'hush': 1,\n",
       " 'silence': 1,\n",
       " 'chaos': 1,\n",
       " 'suppress': 12,\n",
       " 'confusion': 6,\n",
       " 'physical phenomenon': 6,\n",
       " 'dynamical system': 6}"
      ]
     },
     "execution_count": 30,
     "metadata": {},
     "output_type": "execute_result"
    }
   ],
   "source": [
    "generate_tokens('Silenced by the chaos.')"
   ]
  }
 ],
 "metadata": {
  "kernelspec": {
   "display_name": "Python 3",
   "language": "python",
   "name": "python3"
  },
  "language_info": {
   "codemirror_mode": {
    "name": "ipython",
    "version": 3
   },
   "file_extension": ".py",
   "mimetype": "text/x-python",
   "name": "python",
   "nbconvert_exporter": "python",
   "pygments_lexer": "ipython3",
   "version": "3.8.5"
  }
 },
 "nbformat": 4,
 "nbformat_minor": 4
}
